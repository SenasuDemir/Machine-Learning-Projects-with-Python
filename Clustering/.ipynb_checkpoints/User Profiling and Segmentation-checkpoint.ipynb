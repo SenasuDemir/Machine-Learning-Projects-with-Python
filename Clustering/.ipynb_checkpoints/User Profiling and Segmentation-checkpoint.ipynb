{
 "cells": [
  {
   "cell_type": "markdown",
   "id": "2162391c-fc84-429a-821a-bfd9fbc77cd2",
   "metadata": {},
   "source": [
    "# User Profiling and Segmentation"
   ]
  },
  {
   "cell_type": "code",
   "execution_count": null,
   "id": "c44fe71d-14f4-4409-bbac-3c93f2c931a4",
   "metadata": {},
   "outputs": [],
   "source": []
  }
 ],
 "metadata": {
  "kernelspec": {
   "display_name": "Python 3 (ipykernel)",
   "language": "python",
   "name": "python3"
  },
  "language_info": {
   "codemirror_mode": {
    "name": "ipython",
    "version": 3
   },
   "file_extension": ".py",
   "mimetype": "text/x-python",
   "name": "python",
   "nbconvert_exporter": "python",
   "pygments_lexer": "ipython3",
   "version": "3.12.4"
  }
 },
 "nbformat": 4,
 "nbformat_minor": 5
}
